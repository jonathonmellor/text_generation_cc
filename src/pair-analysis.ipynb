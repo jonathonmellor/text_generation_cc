{
 "cells": [
  {
   "cell_type": "markdown",
   "metadata": {},
   "source": [
    "# Analysis of sample-target pairs\n",
    "\n",
    "Although we are using embeddings, making this analysis very naive, we look at how our data has duplicates, and training features with multiple possible valid outputs. This effect may be a theoretical limit of the validation accuracy."
   ]
  },
  {
   "cell_type": "code",
   "execution_count": 1,
   "metadata": {},
   "outputs": [
    {
     "name": "stderr",
     "output_type": "stream",
     "text": [
      "Using TensorFlow backend.\n"
     ]
    }
   ],
   "source": [
    "import random\n",
    "\n",
    "import pickle\n",
    "\n",
    "import numpy as np\n",
    "from collections import Counter"
   ]
  },
  {
   "cell_type": "code",
   "execution_count": 29,
   "metadata": {},
   "outputs": [
    {
     "name": "stdout",
     "output_type": "stream",
     "text": [
      "Number of unique features 48986\n",
      "Number of unique targets 4053\n"
     ]
    }
   ],
   "source": [
    "pickle_file = \"../processed_data/20200621-203342-5-4-5000\"\n",
    "\n",
    "with open(pickle_file, \"rb\") as f:\n",
    "    X, y, tokenizer, len_vocab, ngram_len = pickle.load(f) \n",
    "    \n",
    "print(\"Number of unique features\", len(np.unique(X, axis=1)))\n",
    "print(\"Number of unique targets\", len(np.unique(y)))"
   ]
  },
  {
   "cell_type": "code",
   "execution_count": 30,
   "metadata": {},
   "outputs": [],
   "source": [
    "# get y in usable format then combine\n",
    "y_rs = y.reshape(-1, 1)\n",
    "Xy = np.concatenate((X, y_rs), axis=1)"
   ]
  },
  {
   "cell_type": "code",
   "execution_count": 31,
   "metadata": {},
   "outputs": [
    {
     "data": {
      "text/plain": [
       "array([[ 149,  200,    1,  322],\n",
       "       [4859,    7,  334,    4],\n",
       "       [   1,   84,  201,  138],\n",
       "       ...,\n",
       "       [ 142,  165,    7,  376],\n",
       "       [ 123,    8,   43,  326],\n",
       "       [  21,  546,    4,   29]], dtype=int32)"
      ]
     },
     "execution_count": 31,
     "metadata": {},
     "output_type": "execute_result"
    }
   ],
   "source": [
    "# final column is y\n",
    "Xy"
   ]
  },
  {
   "cell_type": "code",
   "execution_count": 32,
   "metadata": {},
   "outputs": [],
   "source": [
    "# Number of different sample pairs / features\n",
    "num_samples = len(Xy)\n",
    "num_unique_samples = len(np.unique(Xy, axis=0))\n",
    "num_unique_features = len(np.unique(X, axis=0))\n"
   ]
  },
  {
   "cell_type": "code",
   "execution_count": 33,
   "metadata": {},
   "outputs": [
    {
     "name": "stdout",
     "output_type": "stream",
     "text": [
      "Numbers of samples (X and y):  48986\n",
      "Number of unique X y pairs:  38965\n",
      "Number of unique X features:  33833\n",
      "Percent non-unique Xy pairs (duplicates): 20.456865226799493\n",
      "Percent multiple possible outputs same features (of unique pairs):  13.170794302579237\n"
     ]
    }
   ],
   "source": [
    "print(\"Numbers of samples (X and y): \", num_samples)\n",
    "print(\"Number of unique X y pairs: \", num_unique_samples)\n",
    "print(\"Number of unique X features: \", num_unique_features)\n",
    "\n",
    "print(\"Percent non-unique Xy pairs (duplicates):\", 100*(1 - (num_unique_samples/num_samples)))\n",
    "print(\"Percent multiple possible outputs same features (of unique pairs): \",\n",
    "      100*(num_unique_samples-num_unique_features)/num_unique_samples)"
   ]
  },
  {
   "cell_type": "markdown",
   "metadata": {},
   "source": [
    "Find the unique samples / features, and how many of them there are. Used for later counting."
   ]
  },
  {
   "cell_type": "code",
   "execution_count": 34,
   "metadata": {},
   "outputs": [],
   "source": [
    "# tuple (fixed size/memory) more efficient for later application\n",
    "Xy_unique, Xy_index, Xy_counts = np.unique(Xy, return_counts=True, return_index=True, axis=0)\n",
    "Xy_tp = list(map(tuple, Xy))\n",
    "Xy_unique_tp = map(tuple, Xy_unique)\n",
    "Xy_dict = dict(zip(Xy_unique_tp, Xy_counts))\n"
   ]
  },
  {
   "cell_type": "code",
   "execution_count": 35,
   "metadata": {},
   "outputs": [
    {
     "data": {
      "text/plain": [
       "array([   54,    19,   387, ..., 36863, 20747, 10677])"
      ]
     },
     "execution_count": 35,
     "metadata": {},
     "output_type": "execute_result"
    }
   ],
   "source": [
    "X_unique, X_index, X_counts = np.unique(X, return_counts=True, return_index=True, axis=0)\n",
    "X_tp = list(map(tuple, X))\n",
    "X_unique_tp = map(tuple, X_unique)\n",
    "X_dict = dict(zip(X_unique_tp, X_counts))\n",
    "X_index"
   ]
  },
  {
   "cell_type": "markdown",
   "metadata": {},
   "source": [
    "For all the training samples find how many different targets each sample has.\n",
    "\n",
    "Iterates through all feature samples and all samples (nested loops) therefore O(N^2). \n",
    "\n",
    "Take a subsample of the data to reduce run time (for large data). Appears to be representative with >1000 samples, but not statistically validated."
   ]
  },
  {
   "cell_type": "code",
   "execution_count": 76,
   "metadata": {
    "scrolled": true
   },
   "outputs": [
    {
     "name": "stdout",
     "output_type": "stream",
     "text": [
      "200\n",
      "400\n",
      "600\n",
      "800\n",
      "1000\n",
      "1200\n",
      "1400\n",
      "1600\n",
      "1800\n",
      "2000\n"
     ]
    }
   ],
   "source": [
    "# could be converted to a comprehension\n",
    "unique_out_per_training_sample = []\n",
    "for index, training_sample in enumerate(random.sample(X_tp, 2000)):\n",
    "    if (index + 1) % 200 == 0:\n",
    "        print(index + 1)\n",
    "    unique_targets = set()\n",
    "    for each_full_sample in Xy_tp:\n",
    "        if each_full_sample[:-1] == training_sample:\n",
    "            unique_targets.add(each_full_sample[-1])\n",
    "    unique_out_per_training_sample.append(len(unique_targets))\n",
    "\n",
    "\n",
    "    "
   ]
  },
  {
   "cell_type": "code",
   "execution_count": 77,
   "metadata": {},
   "outputs": [],
   "source": [
    "number_samples = len(unique_out_per_training_sample)\n",
    "one_target = unique_out_per_training_sample.count(1)\n"
   ]
  },
  {
   "cell_type": "code",
   "execution_count": 78,
   "metadata": {},
   "outputs": [
    {
     "data": {
      "text/plain": [
       "1545"
      ]
     },
     "execution_count": 78,
     "metadata": {},
     "output_type": "execute_result"
    }
   ],
   "source": [
    "one_target\n"
   ]
  },
  {
   "cell_type": "code",
   "execution_count": 82,
   "metadata": {},
   "outputs": [
    {
     "name": "stdout",
     "output_type": "stream",
     "text": [
      "0.7725\n"
     ]
    }
   ],
   "source": [
    "# How many samples of our data have only one possible valid output?\n",
    "percent_samples_unique = one_target / number_samples\n",
    "\n",
    "print(percent_samples_unique)"
   ]
  },
  {
   "cell_type": "code",
   "execution_count": 81,
   "metadata": {},
   "outputs": [
    {
     "data": {
      "image/png": "[encoded data removed]",
      "text/plain": [
       "<Figure size 432x288 with 1 Axes>"
      ]
     },
     "metadata": {
      "needs_background": "light"
     },
     "output_type": "display_data"
    }
   ],
   "source": [
    "import matplotlib.pyplot as plt\n",
    "\n",
    "plt.hist(unique_out_per_training_sample, bins=140);\n",
    "plt.yscale(\"log\");"
   ]
  },
  {
   "cell_type": "markdown",
   "metadata": {},
   "source": [
    "#### "
   ]
  }
 ],
 "metadata": {
  "kernelspec": {
   "display_name": "Python 3",
   "language": "python",
   "name": "python3"
  },
  "language_info": {
   "codemirror_mode": {
    "name": "ipython",
    "version": 3
   },
   "file_extension": ".py",
   "mimetype": "text/x-python",
   "name": "python",
   "nbconvert_exporter": "python",
   "pygments_lexer": "ipython3",
   "version": "3.7.4"
  }
 },
 "nbformat": 4,
 "nbformat_minor": 2
}
